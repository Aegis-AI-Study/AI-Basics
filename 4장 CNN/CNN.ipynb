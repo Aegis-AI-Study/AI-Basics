{
 "cells": [
  {
   "cell_type": "code",
   "execution_count": 1,
   "metadata": {},
   "outputs": [],
   "source": [
    "from tensorflow.python.keras.datasets import cifar10\n",
    "from tensorflow.python.keras.utils import to_categorical\n",
    "from tensorflow.python.keras.models import Sequential\n",
    "from tensorflow.python.keras.layers import Conv2D\n",
    "from tensorflow.python.keras.layers import MaxPooling2D\n",
    "from tensorflow.python.keras.layers import Dropout\n",
    "from tensorflow.python.keras.layers import Flatten\n",
    "from tensorflow.python.keras.layers import Dense\n",
    "from tensorflow.python.keras.callbacks import TensorBoard"
   ]
  },
  {
   "cell_type": "code",
   "execution_count": 2,
   "metadata": {},
   "outputs": [
    {
     "name": "stdout",
     "output_type": "stream",
     "text": [
      "x_train shape: (50000, 32, 32, 3)\n",
      "y_train shape: (50000, 1)\n",
      "x_test shape: (10000, 32, 32, 3)\n",
      "y_test shape: (10000, 1)\n"
     ]
    }
   ],
   "source": [
    "#데이터셋 불러오기\n",
    "#cifar10 데이터셋은 10개의 클래스를 분류하는 데이테셋이다\n",
    "\n",
    "(x_train, y_train), (x_test, y_test) = cifar10.load_data()\n",
    "print('x_train shape:', x_train.shape)\n",
    "print('y_train shape:', y_train.shape)\n",
    "print('x_test shape:', x_test.shape)\n",
    "print('y_test shape:', y_test.shape)"
   ]
  },
  {
   "cell_type": "code",
   "execution_count": 3,
   "metadata": {},
   "outputs": [],
   "source": [
    "#데이터 전처리\n",
    "\n",
    "x_train = x_train/255\n",
    "x_test = x_test/255\n",
    "y_train = to_categorical(y_train, 10)\n",
    "y_test = to_categorical(y_test, 10)"
   ]
  },
  {
   "cell_type": "code",
   "execution_count": 4,
   "metadata": {},
   "outputs": [
    {
     "name": "stdout",
     "output_type": "stream",
     "text": [
      "WARNING:tensorflow:From /home/eddie/tensorflow/tf/lib/python3.5/site-packages/tensorflow/python/ops/init_ops.py:1251: calling VarianceScaling.__init__ (from tensorflow.python.ops.init_ops) with dtype is deprecated and will be removed in a future version.\n",
      "Instructions for updating:\n",
      "Call initializer instance with the dtype argument instead of passing it to the constructor\n"
     ]
    }
   ],
   "source": [
    "# 모델 정의\n",
    "\n",
    "model = Sequential()\n",
    "\n",
    "#Conv2D 레이어를 사용\n",
    "#filters : 출력 채널 수\n",
    "#kernel_size 는 반드시 홀수X홀수 의 정방행렬일것\n",
    "#strides : 커널을 이동시키는 폭을 정의\n",
    "#padding : same이면 zero padding을 수행하고, valid면 수행 안함\n",
    "\n",
    "model.add(Conv2D(filters=32, input_shape=(32,32,3), kernel_size=(3,3), strides=(1,1), padding='same', activation='relu'))\n",
    "model.add(Conv2D(filters=32, input_shape=(32,32,3), kernel_size=(3,3), strides=(1,1), padding='same', activation='relu'))\n",
    "\n",
    "#pooling\n",
    "model.add(MaxPooling2D(pool_size=(2,2)))\n",
    "\n",
    "#Dropout layer 추가\n",
    "model.add(Dropout(0.25))\n",
    "\n",
    "#Convolution layer, pooling layer를 추가\n",
    "\n",
    "model.add(Conv2D(filters=64, kernel_size=(3,3), strides=(1,1), padding='same', activation='relu'))\n",
    "model.add(Conv2D(filters=64, kernel_size=(3,3), strides=(1,1), padding='same', activation='relu'))\n",
    "model.add(MaxPooling2D(pool_size=(2,2)))\n",
    "model.add(Dropout(0.25))"
   ]
  },
  {
   "cell_type": "code",
   "execution_count": 5,
   "metadata": {},
   "outputs": [
    {
     "data": {
      "text/plain": [
       "TensorShape([Dimension(None), Dimension(8), Dimension(8), Dimension(64)])"
      ]
     },
     "execution_count": 5,
     "metadata": {},
     "output_type": "execute_result"
    }
   ],
   "source": [
    "#convolution layer와 pooling layer는 2차원의 텐서가 아니므로\n",
    "#fully connected layer에 입력시킬 수 없다\n",
    "#다음은 pooling layer를 추가시켰을 때의 출력을 확인한다\n",
    "#(data의 수, 행, 열, 채널의 수)\n",
    "\n",
    "model.output.shape"
   ]
  },
  {
   "cell_type": "code",
   "execution_count": 6,
   "metadata": {},
   "outputs": [
    {
     "data": {
      "text/plain": [
       "TensorShape([Dimension(None), Dimension(4096)])"
      ]
     },
     "execution_count": 6,
     "metadata": {},
     "output_type": "execute_result"
    }
   ],
   "source": [
    "#fully connected layer는 2차원의 텐서만 입력받을 수 있으므로\n",
    "#Flatten layer를 추가하여 2차원의 텐서로 변환한다\n",
    "\n",
    "model.add(Flatten())\n",
    "model.output.shape"
   ]
  },
  {
   "cell_type": "code",
   "execution_count": 7,
   "metadata": {},
   "outputs": [],
   "source": [
    "#Fully Connected Layer 추가\n",
    "\n",
    "model.add(Dense(units=512, activation='relu'))\n",
    "model.add(Dropout(0.25))\n",
    "model.add(Dense(units=10, activation='softmax'))"
   ]
  },
  {
   "cell_type": "code",
   "execution_count": 8,
   "metadata": {},
   "outputs": [
    {
     "name": "stdout",
     "output_type": "stream",
     "text": [
      "Train on 40000 samples, validate on 10000 samples\n",
      "Epoch 1/20\n",
      "40000/40000 [==============================] - 116s 3ms/sample - loss: 1.5598 - acc: 0.4266 - val_loss: 1.2613 - val_acc: 0.5488\n",
      "Epoch 2/20\n",
      "40000/40000 [==============================] - 124s 3ms/sample - loss: 1.1391 - acc: 0.5932 - val_loss: 1.0184 - val_acc: 0.6298\n",
      "Epoch 3/20\n",
      "40000/40000 [==============================] - 116s 3ms/sample - loss: 0.9546 - acc: 0.6632 - val_loss: 0.8591 - val_acc: 0.6999\n",
      "Epoch 4/20\n",
      "40000/40000 [==============================] - 117s 3ms/sample - loss: 0.8359 - acc: 0.7066 - val_loss: 0.8080 - val_acc: 0.7229\n",
      "Epoch 5/20\n",
      "40000/40000 [==============================] - 114s 3ms/sample - loss: 0.7500 - acc: 0.7353 - val_loss: 0.7585 - val_acc: 0.7385\n",
      "Epoch 6/20\n",
      "40000/40000 [==============================] - 112s 3ms/sample - loss: 0.6782 - acc: 0.7598 - val_loss: 0.7615 - val_acc: 0.7362\n",
      "Epoch 7/20\n",
      "40000/40000 [==============================] - 111s 3ms/sample - loss: 0.6191 - acc: 0.7810 - val_loss: 0.7471 - val_acc: 0.7483\n",
      "Epoch 8/20\n",
      "40000/40000 [==============================] - 112s 3ms/sample - loss: 0.5611 - acc: 0.8018 - val_loss: 0.7205 - val_acc: 0.7561\n",
      "Epoch 9/20\n",
      "40000/40000 [==============================] - 112s 3ms/sample - loss: 0.5151 - acc: 0.8165 - val_loss: 0.6886 - val_acc: 0.7703\n",
      "Epoch 10/20\n",
      "40000/40000 [==============================] - 113s 3ms/sample - loss: 0.4701 - acc: 0.8327 - val_loss: 0.7583 - val_acc: 0.7528\n",
      "Epoch 11/20\n",
      "40000/40000 [==============================] - 112s 3ms/sample - loss: 0.4384 - acc: 0.8479 - val_loss: 0.7575 - val_acc: 0.7611\n",
      "Epoch 12/20\n",
      "40000/40000 [==============================] - 112s 3ms/sample - loss: 0.4132 - acc: 0.8536 - val_loss: 0.7282 - val_acc: 0.7737\n",
      "Epoch 13/20\n",
      "40000/40000 [==============================] - 113s 3ms/sample - loss: 0.3825 - acc: 0.8639 - val_loss: 0.7673 - val_acc: 0.7710\n",
      "Epoch 14/20\n",
      "40000/40000 [==============================] - 113s 3ms/sample - loss: 0.3623 - acc: 0.8714 - val_loss: 0.7726 - val_acc: 0.7635\n",
      "Epoch 15/20\n",
      "40000/40000 [==============================] - 113s 3ms/sample - loss: 0.3438 - acc: 0.8783 - val_loss: 0.8061 - val_acc: 0.7553\n",
      "Epoch 16/20\n",
      "40000/40000 [==============================] - 113s 3ms/sample - loss: 0.3329 - acc: 0.8835 - val_loss: 0.7997 - val_acc: 0.7662\n",
      "Epoch 17/20\n",
      "40000/40000 [==============================] - 113s 3ms/sample - loss: 0.3194 - acc: 0.8876 - val_loss: 0.8182 - val_acc: 0.7632\n",
      "Epoch 18/20\n",
      "40000/40000 [==============================] - 113s 3ms/sample - loss: 0.3038 - acc: 0.8948 - val_loss: 0.8392 - val_acc: 0.7588\n",
      "Epoch 19/20\n",
      "40000/40000 [==============================] - 113s 3ms/sample - loss: 0.2944 - acc: 0.8961 - val_loss: 0.8311 - val_acc: 0.7653\n",
      "Epoch 20/20\n",
      "40000/40000 [==============================] - 113s 3ms/sample - loss: 0.2842 - acc: 0.9011 - val_loss: 0.8516 - val_acc: 0.7643\n"
     ]
    }
   ],
   "source": [
    "#모델 학습 단계\n",
    "\n",
    "model.compile(\n",
    "    optimizer='adam',\n",
    "    loss='categorical_crossentropy',\n",
    "    metrics=['accuracy']\n",
    ")\n",
    "\n",
    "tsb = TensorBoard(log_dir='./logs')\n",
    "\n",
    "history_model1 = model.fit(\n",
    "    x_train,\n",
    "    y_train,\n",
    "    batch_size=32,\n",
    "    epochs=20,\n",
    "    validation_split=0.2,\n",
    "    callbacks=[tsb]\n",
    ")"
   ]
  },
  {
   "cell_type": "code",
   "execution_count": null,
   "metadata": {},
   "outputs": [],
   "source": []
  }
 ],
 "metadata": {
  "kernelspec": {
   "display_name": "tensorflow",
   "language": "python",
   "name": "tf"
  },
  "language_info": {
   "codemirror_mode": {
    "name": "ipython",
    "version": 3
   },
   "file_extension": ".py",
   "mimetype": "text/x-python",
   "name": "python",
   "nbconvert_exporter": "python",
   "pygments_lexer": "ipython3",
   "version": "3.5.2"
  }
 },
 "nbformat": 4,
 "nbformat_minor": 2
}
