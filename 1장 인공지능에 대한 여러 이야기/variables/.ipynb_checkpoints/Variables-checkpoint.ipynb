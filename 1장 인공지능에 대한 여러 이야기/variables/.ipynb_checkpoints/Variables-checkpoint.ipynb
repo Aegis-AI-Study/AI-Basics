{
 "cells": [
  {
   "cell_type": "code",
   "execution_count": 1,
   "metadata": {},
   "outputs": [],
   "source": [
    "import tensorflow as tf"
   ]
  },
  {
   "cell_type": "code",
   "execution_count": 2,
   "metadata": {},
   "outputs": [],
   "source": [
    "#값이 변경 가능한 변수를 생성\n",
    "#Variable(initial_value, name=<optional-name>)\n",
    "#initial_value : 변수에 할당할 값\n",
    "#name 파라미터에 변수의 이름을 입력\n",
    "#추후 그래프를 통해 자신의 모델을 확인할 때 추적이 가능함\n",
    "a = tf.Variable(1, name='a')\n",
    "\n",
    "#값을 변경할 수 없는 상수를 생성\n",
    "#constant(value, name='const')\n",
    "#value : 상수에 할당할 값\n",
    "#name 파라미터에 이름을 입력\n",
    "b = tf.constant(1, name='b')\n",
    "\n",
    "#변수에 값을 대입\n",
    "#assign(ref, value)\n",
    "#ref 안의 값을 value로 변경\n",
    "#아래 예시에는 assign에 의해 a의 값이 a+b로 변경된 다음\n",
    "#a를 반환하므로 c역시 a와 같은 값(a+b)을 갖는다\n",
    "c = tf.assign(a, a+b)"
   ]
  },
  {
   "cell_type": "code",
   "execution_count": 3,
   "metadata": {},
   "outputs": [
    {
     "name": "stdout",
     "output_type": "stream",
     "text": [
      "1. [c,a] =  [2, 2]\n",
      "2. [c,a] =  [3, 3]\n"
     ]
    }
   ],
   "source": [
    "'''\n",
    "tf의 모든 코드의 실행은 세션 안에서 실행된다\n",
    "따라서 세션이 끝나면 관련 정보를 전부 잃어버리므로 주의\n",
    "\n",
    "tf.Session()을 통해 세션을 열고\n",
    "Session의 run메소드를 통해 동작을 실행한다\n",
    "위에 선언해 놓은 변수들을 사용하기 전에 \n",
    "global_variables_initializer()를 호출하여\n",
    "변수를 우리가 정의한 값으로 초기화해준다.\n",
    "'''\n",
    "with tf.Session() as sess:\n",
    "    sess.run(tf.global_variables_initializer())#모든 변수를 초기화\n",
    "    print('1. [c,a] = ',sess.run([c,a]))\n",
    "    print('2. [c,a] = ',sess.run([c,a]))"
   ]
  },
  {
   "cell_type": "code",
   "execution_count": null,
   "metadata": {},
   "outputs": [],
   "source": []
  }
 ],
 "metadata": {
  "kernelspec": {
   "display_name": "tensorflow",
   "language": "python",
   "name": "tf"
  },
  "language_info": {
   "codemirror_mode": {
    "name": "ipython",
    "version": 3
   },
   "file_extension": ".py",
   "mimetype": "text/x-python",
   "name": "python",
   "nbconvert_exporter": "python",
   "pygments_lexer": "ipython3",
   "version": "3.5.2"
  }
 },
 "nbformat": 4,
 "nbformat_minor": 2
}
