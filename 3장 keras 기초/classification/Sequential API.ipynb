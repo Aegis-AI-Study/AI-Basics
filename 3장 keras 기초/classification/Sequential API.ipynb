{
 "cells": [
  {
   "cell_type": "code",
   "execution_count": 1,
   "metadata": {},
   "outputs": [],
   "source": [
    "from tensorflow.python.keras.datasets import mnist\n",
    "from tensorflow.python.keras.utils import to_categorical\n",
    "from tensorflow.python.keras.models import Sequential\n",
    "from tensorflow.python.keras.layers import Dense\n",
    "from tensorflow.python.keras.callbacks import TensorBoard"
   ]
  },
  {
   "cell_type": "code",
   "execution_count": 10,
   "metadata": {},
   "outputs": [
    {
     "name": "stdout",
     "output_type": "stream",
     "text": [
      "x_train shape: (60000, 28, 28)\n",
      "y_train shape: (60000,)\n",
      "x_test shape: (10000, 28, 28)\n",
      "y_test shape: (10000,)\n"
     ]
    }
   ],
   "source": [
    "#이번에 사용할 데이터셋은 손글씨 데이터셋인 mnist 데이터셋이다.\n",
    "#mnist 데이터셋은 28X28 크기를 갖는 사진파일을 데이터로 하며\n",
    "#모든 픽셀은 0~255 사이의 값을 갖는 Gray Scale 사진이다\n",
    "(x_train, y_train), (x_test, y_test) = mnist.load_data()\n",
    "print('x_train shape:',x_train.shape)\n",
    "print('y_train shape:',y_train.shape)\n",
    "print('x_test shape:', x_test.shape)\n",
    "print('y_test shape:', y_test.shape)"
   ]
  },
  {
   "cell_type": "code",
   "execution_count": 11,
   "metadata": {},
   "outputs": [],
   "source": [
    "#60000개의 28X28데이터를 60000X784의 데이터로 변환한 후\n",
    "#0~1 사이의 값으로 정규화\n",
    "\n",
    "x_train = x_train.reshape(60000,784)\n",
    "x_train = x_train/255\n",
    "x_test = x_test.reshape(10000,784)\n",
    "x_test = x_test/255"
   ]
  },
  {
   "cell_type": "code",
   "execution_count": 12,
   "metadata": {},
   "outputs": [],
   "source": [
    "#60000개의 레이블 데이터를\n",
    "#60000X10 의 one-hot벡터로 변환\n",
    "#to_categorical 함수의 두번째 인자가 레이블의 개수\n",
    "\n",
    "y_train = to_categorical(y_train, 10)\n",
    "y_test = to_categorical(y_test, 10)"
   ]
  },
  {
   "cell_type": "code",
   "execution_count": 13,
   "metadata": {},
   "outputs": [],
   "source": [
    "#model definition\n",
    "#keras의 Sequential모델은 네트워크의 레이어를 add메소드를 이용하여 추가함\n",
    "\n",
    "model = Sequential()"
   ]
  },
  {
   "cell_type": "code",
   "execution_count": 14,
   "metadata": {},
   "outputs": [
    {
     "name": "stdout",
     "output_type": "stream",
     "text": [
      "WARNING:tensorflow:From /home/eddie/tensorflow/tf/lib/python3.5/site-packages/tensorflow/python/ops/init_ops.py:1251: calling VarianceScaling.__init__ (from tensorflow.python.ops.init_ops) with dtype is deprecated and will be removed in a future version.\n",
      "Instructions for updating:\n",
      "Call initializer instance with the dtype argument instead of passing it to the constructor\n"
     ]
    }
   ],
   "source": [
    "#Dense 레이어는 Fully Connected Layer를 추가\n",
    "#units : 출력되는 뉴런의 개수\n",
    "#input_shape : 입력되는 텐서의 shape\n",
    "#activation : 활성화함수\n",
    "\n",
    "#모델의 첫번째 레이어는 입력 모양을 지정해 줘야 하지만\n",
    "#두번째 부터는 자동으로 계산해주므로 생략해도 된다\n",
    "\n",
    "model.add(Dense(units=64, input_shape=(784,), activation='relu'))\n",
    "model.add(Dense(units=10, activation='softmax'))"
   ]
  },
  {
   "cell_type": "code",
   "execution_count": 15,
   "metadata": {},
   "outputs": [
    {
     "name": "stdout",
     "output_type": "stream",
     "text": [
      "Train on 48000 samples, validate on 12000 samples\n",
      "Epoch 1/20\n",
      "48000/48000 [==============================] - 3s 60us/sample - loss: 0.3359 - acc: 0.9058 - val_loss: 0.1796 - val_acc: 0.9500\n",
      "Epoch 2/20\n",
      "48000/48000 [==============================] - 3s 57us/sample - loss: 0.1601 - acc: 0.9544 - val_loss: 0.1560 - val_acc: 0.9532\n",
      "Epoch 3/20\n",
      "48000/48000 [==============================] - 3s 56us/sample - loss: 0.1167 - acc: 0.9659 - val_loss: 0.1196 - val_acc: 0.9636\n",
      "Epoch 4/20\n",
      "48000/48000 [==============================] - 3s 55us/sample - loss: 0.0903 - acc: 0.9728 - val_loss: 0.1149 - val_acc: 0.9647\n",
      "Epoch 5/20\n",
      "48000/48000 [==============================] - 3s 55us/sample - loss: 0.0742 - acc: 0.9772 - val_loss: 0.0996 - val_acc: 0.9694\n",
      "Epoch 6/20\n",
      "48000/48000 [==============================] - 3s 63us/sample - loss: 0.0619 - acc: 0.9812 - val_loss: 0.0996 - val_acc: 0.9709\n",
      "Epoch 7/20\n",
      "48000/48000 [==============================] - 3s 53us/sample - loss: 0.0529 - acc: 0.9836 - val_loss: 0.0991 - val_acc: 0.9708\n",
      "Epoch 8/20\n",
      "48000/48000 [==============================] - 3s 53us/sample - loss: 0.0447 - acc: 0.9868 - val_loss: 0.1013 - val_acc: 0.9714\n",
      "Epoch 9/20\n",
      "48000/48000 [==============================] - 3s 62us/sample - loss: 0.0389 - acc: 0.9878 - val_loss: 0.0958 - val_acc: 0.9732\n",
      "Epoch 10/20\n",
      "48000/48000 [==============================] - 3s 60us/sample - loss: 0.0334 - acc: 0.9896 - val_loss: 0.0993 - val_acc: 0.9712\n",
      "Epoch 11/20\n",
      "48000/48000 [==============================] - 3s 63us/sample - loss: 0.0295 - acc: 0.9908 - val_loss: 0.0992 - val_acc: 0.9728\n",
      "Epoch 12/20\n",
      "48000/48000 [==============================] - 3s 58us/sample - loss: 0.0252 - acc: 0.9927 - val_loss: 0.1077 - val_acc: 0.9705\n",
      "Epoch 13/20\n",
      "48000/48000 [==============================] - 3s 56us/sample - loss: 0.0215 - acc: 0.9935 - val_loss: 0.1063 - val_acc: 0.9714\n",
      "Epoch 14/20\n",
      "48000/48000 [==============================] - 3s 70us/sample - loss: 0.0198 - acc: 0.9941 - val_loss: 0.1067 - val_acc: 0.9734\n",
      "Epoch 15/20\n",
      "48000/48000 [==============================] - 3s 64us/sample - loss: 0.0161 - acc: 0.9951 - val_loss: 0.1076 - val_acc: 0.9732\n",
      "Epoch 16/20\n",
      "48000/48000 [==============================] - 3s 66us/sample - loss: 0.0153 - acc: 0.9954 - val_loss: 0.1207 - val_acc: 0.9711\n",
      "Epoch 17/20\n",
      "48000/48000 [==============================] - 3s 62us/sample - loss: 0.0138 - acc: 0.9960 - val_loss: 0.1178 - val_acc: 0.9719\n",
      "Epoch 18/20\n",
      "48000/48000 [==============================] - 3s 64us/sample - loss: 0.0105 - acc: 0.9971 - val_loss: 0.1361 - val_acc: 0.9676\n",
      "Epoch 19/20\n",
      "48000/48000 [==============================] - 3s 59us/sample - loss: 0.0116 - acc: 0.9962 - val_loss: 0.1208 - val_acc: 0.9716\n",
      "Epoch 20/20\n",
      "48000/48000 [==============================] - 3s 54us/sample - loss: 0.0087 - acc: 0.9974 - val_loss: 0.1264 - val_acc: 0.9738\n"
     ]
    }
   ],
   "source": [
    "#분류문제는 교차엔트로피를 손실함수로 많이 사용함\n",
    "#validation split은 교차검증의 20%를 검증용으로 사용하겠다는 뜻\n",
    "#자세한 얘기는 '학습을 더 효과적으로' 항목을 참조\n",
    "model.compile(optimizer='adam', loss='categorical_crossentropy', metrics=['accuracy'])\n",
    "tsb = TensorBoard(log_dir='./logs')\n",
    "history_adam = model.fit(x_train, y_train, batch_size=32, epochs=20, validation_split=0.2, callbacks=[tsb])"
   ]
  },
  {
   "cell_type": "code",
   "execution_count": null,
   "metadata": {},
   "outputs": [],
   "source": []
  }
 ],
 "metadata": {
  "kernelspec": {
   "display_name": "tensorflow",
   "language": "python",
   "name": "tf"
  },
  "language_info": {
   "codemirror_mode": {
    "name": "ipython",
    "version": 3
   },
   "file_extension": ".py",
   "mimetype": "text/x-python",
   "name": "python",
   "nbconvert_exporter": "python",
   "pygments_lexer": "ipython3",
   "version": "3.5.2"
  }
 },
 "nbformat": 4,
 "nbformat_minor": 2
}
