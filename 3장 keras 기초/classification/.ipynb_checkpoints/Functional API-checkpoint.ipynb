{
 "cells": [
  {
   "cell_type": "code",
   "execution_count": 1,
   "metadata": {},
   "outputs": [],
   "source": [
    "from tensorflow.python.keras.datasets import mnist\n",
    "from tensorflow.python.keras.utils import to_categorical\n",
    "from tensorflow.python.keras.callbacks import TensorBoard\n",
    "from tensorflow.python.keras.layers import Input, Dense\n",
    "from tensorflow.python.keras.models import Model"
   ]
  },
  {
   "cell_type": "code",
   "execution_count": 2,
   "metadata": {},
   "outputs": [],
   "source": [
    "#데이터 불러오기 및 정규화\n",
    "\n",
    "(x_train, y_train), (x_test, y_test) = mnist.load_data()\n",
    "x_train = x_train.reshape(60000,784)\n",
    "x_train = x_train/255\n",
    "x_test = x_test.reshape(10000,784)\n",
    "x_test = x_test/255\n",
    "y_train = to_categorical(y_train, 10)\n",
    "y_test = to_categorical(y_test, 10)\n",
    "tsb = TensorBoard(log_dir='./logs')"
   ]
  },
  {
   "cell_type": "code",
   "execution_count": 3,
   "metadata": {},
   "outputs": [
    {
     "name": "stdout",
     "output_type": "stream",
     "text": [
      "WARNING:tensorflow:From /home/eddie/tensorflow/tf/lib/python3.5/site-packages/tensorflow/python/ops/init_ops.py:1251: calling VarianceScaling.__init__ (from tensorflow.python.ops.init_ops) with dtype is deprecated and will be removed in a future version.\n",
      "Instructions for updating:\n",
      "Call initializer instance with the dtype argument instead of passing it to the constructor\n"
     ]
    }
   ],
   "source": [
    "#Functional API 모델 구축\n",
    "#레이어를 다음 레이어의 인수로 넘기는 것으로 모델을 구축\n",
    "\n",
    "inp = Input(shape=(784,))\n",
    "middle = Dense(units=64, activation='relu')(inp)\n",
    "output = Dense(units=10, activation='softmax')(middle)\n",
    "model = Model(inputs=[inp], outputs=[output])"
   ]
  },
  {
   "cell_type": "code",
   "execution_count": 4,
   "metadata": {},
   "outputs": [
    {
     "name": "stdout",
     "output_type": "stream",
     "text": [
      "Train on 48000 samples, validate on 12000 samples\n",
      "Epoch 1/20\n",
      "48000/48000 [==============================] - 3s 71us/sample - loss: 0.3400 - acc: 0.9048 - val_loss: 0.1911 - val_acc: 0.9446\n",
      "Epoch 2/20\n",
      "48000/48000 [==============================] - 3s 53us/sample - loss: 0.1638 - acc: 0.9519 - val_loss: 0.1421 - val_acc: 0.9592\n",
      "Epoch 3/20\n",
      "48000/48000 [==============================] - 3s 56us/sample - loss: 0.1181 - acc: 0.9658 - val_loss: 0.1186 - val_acc: 0.9649\n",
      "Epoch 4/20\n",
      "48000/48000 [==============================] - 3s 55us/sample - loss: 0.0916 - acc: 0.9737 - val_loss: 0.1100 - val_acc: 0.9675\n",
      "Epoch 5/20\n",
      "48000/48000 [==============================] - 3s 54us/sample - loss: 0.0748 - acc: 0.9777 - val_loss: 0.1021 - val_acc: 0.9696\n",
      "Epoch 6/20\n",
      "48000/48000 [==============================] - 3s 53us/sample - loss: 0.0618 - acc: 0.9812 - val_loss: 0.1055 - val_acc: 0.9683\n",
      "Epoch 7/20\n",
      "48000/48000 [==============================] - 3s 54us/sample - loss: 0.0514 - acc: 0.9846 - val_loss: 0.1047 - val_acc: 0.9689\n",
      "Epoch 8/20\n",
      "48000/48000 [==============================] - 3s 53us/sample - loss: 0.0442 - acc: 0.9865 - val_loss: 0.0991 - val_acc: 0.9694\n",
      "Epoch 9/20\n",
      "48000/48000 [==============================] - 3s 55us/sample - loss: 0.0371 - acc: 0.9891 - val_loss: 0.1037 - val_acc: 0.9703\n",
      "Epoch 10/20\n",
      "48000/48000 [==============================] - 3s 58us/sample - loss: 0.0324 - acc: 0.9904 - val_loss: 0.0995 - val_acc: 0.9717\n",
      "Epoch 11/20\n",
      "48000/48000 [==============================] - 3s 56us/sample - loss: 0.0270 - acc: 0.9923 - val_loss: 0.1052 - val_acc: 0.9712\n",
      "Epoch 12/20\n",
      "48000/48000 [==============================] - 3s 58us/sample - loss: 0.0238 - acc: 0.9931 - val_loss: 0.1031 - val_acc: 0.9722\n",
      "Epoch 13/20\n",
      "48000/48000 [==============================] - 3s 56us/sample - loss: 0.0209 - acc: 0.9941 - val_loss: 0.1060 - val_acc: 0.9717\n",
      "Epoch 14/20\n",
      "48000/48000 [==============================] - 3s 58us/sample - loss: 0.0184 - acc: 0.9946 - val_loss: 0.1108 - val_acc: 0.9731\n",
      "Epoch 15/20\n",
      "48000/48000 [==============================] - 3s 58us/sample - loss: 0.0151 - acc: 0.9961 - val_loss: 0.1133 - val_acc: 0.9706\n",
      "Epoch 16/20\n",
      "48000/48000 [==============================] - 3s 59us/sample - loss: 0.0148 - acc: 0.9958 - val_loss: 0.1324 - val_acc: 0.9671\n",
      "Epoch 17/20\n",
      "48000/48000 [==============================] - 3s 59us/sample - loss: 0.0122 - acc: 0.9966 - val_loss: 0.1164 - val_acc: 0.9739\n",
      "Epoch 18/20\n",
      "48000/48000 [==============================] - 3s 61us/sample - loss: 0.0100 - acc: 0.9975 - val_loss: 0.1189 - val_acc: 0.9716\n",
      "Epoch 19/20\n",
      "48000/48000 [==============================] - 3s 61us/sample - loss: 0.0103 - acc: 0.9971 - val_loss: 0.1268 - val_acc: 0.9730\n",
      "Epoch 20/20\n",
      "48000/48000 [==============================] - 3s 59us/sample - loss: 0.0083 - acc: 0.9979 - val_loss: 0.1497 - val_acc: 0.9698\n"
     ]
    },
    {
     "data": {
      "text/plain": [
       "<tensorflow.python.keras.callbacks.History at 0x7f1cf2bba710>"
      ]
     },
     "execution_count": 4,
     "metadata": {},
     "output_type": "execute_result"
    }
   ],
   "source": [
    "model.compile(optimizer='adam', loss='categorical_crossentropy', metrics=['accuracy'])\n",
    "model.fit(x_train, y_train, batch_size=32, epochs=20, callbacks=[tsb], validation_split=0.2)"
   ]
  },
  {
   "cell_type": "code",
   "execution_count": null,
   "metadata": {},
   "outputs": [],
   "source": []
  }
 ],
 "metadata": {
  "kernelspec": {
   "display_name": "tensorflow",
   "language": "python",
   "name": "tf"
  },
  "language_info": {
   "codemirror_mode": {
    "name": "ipython",
    "version": 3
   },
   "file_extension": ".py",
   "mimetype": "text/x-python",
   "name": "python",
   "nbconvert_exporter": "python",
   "pygments_lexer": "ipython3",
   "version": "3.5.2"
  }
 },
 "nbformat": 4,
 "nbformat_minor": 2
}
